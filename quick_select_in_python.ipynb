{
  "nbformat": 4,
  "nbformat_minor": 0,
  "metadata": {
    "colab": {
      "provenance": []
    },
    "kernelspec": {
      "name": "python3",
      "display_name": "Python 3"
    },
    "language_info": {
      "name": "python"
    }
  },
  "cells": [
    {
      "cell_type": "markdown",
      "source": [
        "## quick select with counting - code showcase\n"
      ],
      "metadata": {
        "id": "lJwADYenK_-G"
      }
    },
    {
      "cell_type": "code",
      "execution_count": 12,
      "metadata": {
        "colab": {
          "base_uri": "https://localhost:8080/"
        },
        "id": "24Dlx4QsBVq5",
        "outputId": "30b579fd-18a0-4fe9-fd8c-0c1314919e10"
      },
      "outputs": [
        {
          "output_type": "stream",
          "name": "stdout",
          "text": [
            "Vector: [5, 56, 24, 18, 60, 90, 66, 88]\n",
            "Median: 58.0\n"
          ]
        }
      ],
      "source": [
        "import random\n",
        "\n",
        "def partition_count(array, pivot):\n",
        "    \"\"\"Partition the array into counts of elements < pivot and == pivot.\"\"\"\n",
        "    left_count = 0\n",
        "    equal_count = 0\n",
        "\n",
        "    for element in array:\n",
        "        if element < pivot:\n",
        "            left_count += 1\n",
        "        elif element == pivot:\n",
        "            equal_count += 1\n",
        "\n",
        "    return left_count, equal_count\n",
        "\n",
        "def quickselect(array, k):\n",
        "    \"\"\"Find the k-th smallest element using Quickselect with counting.\"\"\"\n",
        "    while True:\n",
        "        # Choose pivot (simplest: first element)\n",
        "        pivot = array[0]\n",
        "\n",
        "        # Partition the array\n",
        "        left_count, equal_count = partition_count(array, pivot)\n",
        "\n",
        "        # Determine where k lies\n",
        "        if k < left_count:\n",
        "            # Search in the left subarray (elements < pivot)\n",
        "            array = [element for element in array if element < pivot]\n",
        "        elif k < left_count + equal_count:\n",
        "            # k-th element is the pivot\n",
        "            return pivot\n",
        "        else:\n",
        "            # Search in the right subarray (elements > pivot)\n",
        "            array = [element for element in array if element > pivot]\n",
        "            k -= (left_count + equal_count)\n",
        "\n",
        "def main():\n",
        "    # Input: size of the vector\n",
        "    size = 8\n",
        "\n",
        "    # Create a vector with random integers\n",
        "    vector = [random.randint(1, 100) for _ in range(size)]\n",
        "\n",
        "    # Print the vector\n",
        "    print(\"Vector:\", vector)\n",
        "\n",
        "    # Find and print the median\n",
        "    if size % 2 == 1:\n",
        "        # Odd size: middle element\n",
        "        median = quickselect(vector, size // 2)\n",
        "    else:\n",
        "        # Even size: average of two middle elements\n",
        "        left_middle = quickselect(vector, size // 2 - 1)\n",
        "        right_middle = quickselect(vector, size // 2)\n",
        "        median = (left_middle + right_middle) / 2\n",
        "\n",
        "    print(\"Median:\", median)\n",
        "\n",
        "if __name__ == \"__main__\":\n",
        "    main()\n"
      ]
    },
    {
      "cell_type": "markdown",
      "source": [
        "## quick select with counting - graph\n",
        "\n",
        "\n"
      ],
      "metadata": {
        "id": "OLK7dElVK2CE"
      }
    },
    {
      "cell_type": "code",
      "source": [
        "import random\n",
        "import matplotlib.pyplot as plt\n",
        "import numpy as np\n",
        "\n",
        "def visualize_step(array, left_partition, equal_partition, right_partition, pivot, step):\n",
        "    \"\"\"Graphically visualize the current step of Quickselect.\"\"\"\n",
        "    plt.figure(figsize=(10, 2))\n",
        "\n",
        "    # Define colors for partitions\n",
        "    colors = []\n",
        "    for element in array:\n",
        "        if element in left_partition:\n",
        "            colors.append(\"lightblue\")  # Left partition\n",
        "        elif element in equal_partition:\n",
        "            colors.append(\"orange\")  # Pivot\n",
        "        elif element in right_partition:\n",
        "            colors.append(\"lightgreen\")  # Right partition\n",
        "        else:\n",
        "            colors.append(\"grey\")  # Unprocessed elements\n",
        "\n",
        "    # Create a bar chart representing the array\n",
        "    x_positions = np.arange(len(array))\n",
        "    plt.bar(x_positions, [1] * len(array), color=colors, edgecolor=\"black\", tick_label=array, width=0.8)\n",
        "\n",
        "    # Add labels and title\n",
        "    plt.title(f\"Step {step}: Pivot = {pivot}\")\n",
        "    plt.xticks(fontsize=10)\n",
        "    plt.yticks([])\n",
        "    plt.xlabel(\"Array Index\")\n",
        "    plt.ylabel(\"Partition\")\n",
        "\n",
        "    # Highlight partitions\n",
        "    plt.legend([\"Left (< pivot)\", \"Pivot\", \"Right (> pivot)\"], loc=\"upper right\", fontsize=8)\n",
        "\n",
        "    plt.show()\n",
        "\n",
        "def quickselect_visualized(array, k):\n",
        "    \"\"\"Find the k-th smallest element with graphical visualizations.\"\"\"\n",
        "    step = 1\n",
        "    while True:\n",
        "        # Choose pivot (simplest: first element)\n",
        "        pivot = array[0]\n",
        "\n",
        "        # Partition the array\n",
        "        left_partition = [element for element in array if element < pivot]\n",
        "        equal_partition = [element for element in array if element == pivot]\n",
        "        right_partition = [element for element in array if element > pivot]\n",
        "\n",
        "        # Visualize current step\n",
        "        visualize_step(array, left_partition, equal_partition, right_partition, pivot, step)\n",
        "\n",
        "        left_count = len(left_partition)\n",
        "        equal_count = len(equal_partition)\n",
        "\n",
        "        # Determine where k lies\n",
        "        if k < left_count:\n",
        "            # Search in the left subarray (elements < pivot)\n",
        "            array = left_partition\n",
        "        elif k < left_count + equal_count:\n",
        "            # k-th element is the pivot\n",
        "            print(f\"Found the k-th element ({k}): {pivot}\")\n",
        "            return pivot\n",
        "        else:\n",
        "            # Search in the right subarray (elements > pivot)\n",
        "            array = right_partition\n",
        "            k -= (left_count + equal_count)\n",
        "\n",
        "        step += 1\n",
        "\n",
        "def main():\n",
        "    # Input: size of the vector\n",
        "    size = 7\n",
        "    # Create a vector with random integers\n",
        "    vector = [random.randint(1, 10) for _ in range(size)]\n",
        "\n",
        "    # Print the vector\n",
        "    print(\"Initial Vector:\", vector)\n",
        "\n",
        "    # Find and print the median\n",
        "    if size % 2 == 1:\n",
        "        # Odd size: middle element\n",
        "        median = quickselect_visualized(vector, size // 2)\n",
        "    else:\n",
        "        # Even size: use a single pass to find the two middle elements\n",
        "        middle_indices = [size // 2 - 1, size // 2]\n",
        "        sorted_middles = []\n",
        "        for k in middle_indices:\n",
        "            sorted_middles.append(quickselect_visualized(vector, k))\n",
        "        median = sum(sorted_middles) / 2  # Average of the two middle elements\n",
        "\n",
        "    print(\"\\nMedian:\", median)\n",
        "\n",
        "\n",
        "if __name__ == \"__main__\":\n",
        "    main()\n"
      ],
      "metadata": {
        "colab": {
          "base_uri": "https://localhost:8080/",
          "height": 564
        },
        "id": "njhb1jvTD3o5",
        "outputId": "e5655916-4049-4ad2-eb51-2cc4b6c4861d"
      },
      "execution_count": 23,
      "outputs": [
        {
          "output_type": "stream",
          "name": "stdout",
          "text": [
            "Initial Vector: [5, 6, 8, 1, 6, 4, 8]\n"
          ]
        },
        {
          "output_type": "display_data",
          "data": {
            "text/plain": [
              "<Figure size 1000x200 with 1 Axes>"
            ],
            "image/png": "[encoded data removed]"
          },
          "metadata": {}
        },
        {
          "output_type": "display_data",
          "data": {
            "text/plain": [
              "<Figure size 1000x200 with 1 Axes>"
            ],
            "image/png": "[encoded data removed]"
          },
          "metadata": {}
        },
        {
          "output_type": "stream",
          "name": "stdout",
          "text": [
            "Found the k-th element (0): 6\n",
            "\n",
            "Median: 6\n"
          ]
        }
      ]
    },
    {
      "cell_type": "markdown",
      "source": [
        "# quick select with swaping simple code\n"
      ],
      "metadata": {
        "id": "DKdbyeBRNPxH"
      }
    },
    {
      "cell_type": "code",
      "source": [
        "import random\n",
        "\n",
        "def partition_swap(array, pivot):\n",
        "    \"\"\"Partition the array by swapping elements < pivot to the left and > pivot to the right.\"\"\"\n",
        "    left = 0\n",
        "    right = len(array) - 1\n",
        "\n",
        "    while left <= right:\n",
        "        if array[left] < pivot:\n",
        "            left += 1\n",
        "        elif array[right] > pivot:\n",
        "            right -= 1\n",
        "        else:\n",
        "            # Swap elements at left and right\n",
        "            array[left], array[right] = array[right], array[left]\n",
        "            left += 1\n",
        "            right -= 1\n",
        "\n",
        "    return left  # Return the partition index\n",
        "\n",
        "def quickselect(array, k):\n",
        "    \"\"\"Find the k-th smallest element using Quickselect with swapping.\"\"\"\n",
        "    while True:\n",
        "        # Choose pivot (simplest: first element)\n",
        "        pivot = array[0]\n",
        "\n",
        "        # Partition the array using the pivot and get the partition index\n",
        "        partition_index = partition_swap(array, pivot)\n",
        "\n",
        "        # Determine where k lies\n",
        "        if k < partition_index:\n",
        "            # Search in the left subarray (elements < pivot)\n",
        "            array = array[:partition_index]\n",
        "        elif k == partition_index:\n",
        "            # k-th element is the pivot\n",
        "            return array[partition_index]\n",
        "        else:\n",
        "            # Search in the right subarray (elements > pivot)\n",
        "            k -= partition_index\n",
        "            array = array[partition_index:]\n",
        "\n",
        "def main():\n",
        "    # Input: size of the vector\n",
        "    size = 8\n",
        "\n",
        "    # Create a vector with random integers\n",
        "    vector = [random.randint(1, 100) for _ in range(size)]\n",
        "\n",
        "    # Print the vector\n",
        "    print(\"Vector:\", vector)\n",
        "\n",
        "    # Find and print the median\n",
        "    if size % 2 == 1:\n",
        "        # Odd size: middle element\n",
        "        median = quickselect(vector, size // 2)\n",
        "    else:\n",
        "        # Even size: average of two middle elements\n",
        "        left_middle = quickselect(vector, size // 2 - 1)\n",
        "        right_middle = quickselect(vector, size // 2)\n",
        "        median = (left_middle + right_middle) / 2\n",
        "\n",
        "    print(\"Median:\", median)\n",
        "\n",
        "if __name__ == \"__main__\":\n",
        "    main()\n"
      ],
      "metadata": {
        "colab": {
          "base_uri": "https://localhost:8080/"
        },
        "id": "sasYQKbLNMoC",
        "outputId": "011bc8cf-1b14-43cd-a8ea-dbcb7922e8b5"
      },
      "execution_count": 31,
      "outputs": [
        {
          "output_type": "stream",
          "name": "stdout",
          "text": [
            "Vector: [73, 23, 51, 15, 74, 35, 37, 68]\n",
            "Median: 44.0\n"
          ]
        }
      ]
    },
    {
      "cell_type": "markdown",
      "source": [],
      "metadata": {
        "id": "g39kLE0vKzSf"
      }
    },
    {
      "cell_type": "markdown",
      "source": [
        "## quick select with swaping - graph\n",
        "\n"
      ],
      "metadata": {
        "id": "oNC72j4TLI8j"
      }
    },
    {
      "cell_type": "code",
      "source": [
        "import random\n",
        "import matplotlib.pyplot as plt\n",
        "import numpy as np\n",
        "\n",
        "def visualize_step(array, left_partition, equal_partition, right_partition, pivot, step):\n",
        "    \"\"\"Graphically visualize the current step of Quickselect.\"\"\"\n",
        "    plt.figure(figsize=(10, 2))\n",
        "\n",
        "    # Define colors for partitions\n",
        "    colors = []\n",
        "    for element in array:\n",
        "        if element in left_partition:\n",
        "            colors.append(\"lightblue\")  # Left partition\n",
        "        elif element in equal_partition:\n",
        "            colors.append(\"orange\")  # Pivot\n",
        "        elif element in right_partition:\n",
        "            colors.append(\"lightgreen\")  # Right partition\n",
        "        else:\n",
        "            colors.append(\"grey\")  # Unprocessed elements\n",
        "\n",
        "    # Create a bar chart representing the array\n",
        "    x_positions = np.arange(len(array))\n",
        "    plt.bar(x_positions, [1] * len(array), color=colors, edgecolor=\"black\", tick_label=array, width=0.8)\n",
        "\n",
        "    # Add labels and title\n",
        "    plt.title(f\"Step {step}: Pivot = {pivot}\")\n",
        "    plt.xticks(fontsize=10)\n",
        "    plt.yticks([])\n",
        "    plt.xlabel(\"Array Index\")\n",
        "    plt.ylabel(\"Partition\")\n",
        "\n",
        "    # Highlight partitions\n",
        "    plt.legend([\"Left (< pivot)\", \"Pivot\", \"Right (> pivot)\"], loc=\"upper right\", fontsize=8)\n",
        "\n",
        "    plt.show()\n",
        "\n",
        "def partition_swap(array, pivot):\n",
        "    \"\"\"Partition the array by swapping elements into left, equal, and right partitions.\"\"\"\n",
        "    left = []\n",
        "    right = []\n",
        "    pivot_elements = []\n",
        "\n",
        "    for element in array:\n",
        "        if element < pivot:\n",
        "            left.append(element)\n",
        "        elif element > pivot:\n",
        "            right.append(element)\n",
        "        else:\n",
        "            pivot_elements.append(element)\n",
        "\n",
        "    # Swapping elements to correct positions\n",
        "    return left, pivot_elements, right\n",
        "\n",
        "def quickselect_visualized(array, k):\n",
        "    \"\"\"Find the k-th smallest element using swapping and graphical visualizations.\"\"\"\n",
        "    step = 1\n",
        "    while True:\n",
        "        # Choose pivot (simplest: first element)\n",
        "        pivot = array[0]\n",
        "\n",
        "        # Partition the array by swapping\n",
        "        left_partition, equal_partition, right_partition = partition_swap(array, pivot)\n",
        "\n",
        "        # Visualize current step\n",
        "        visualize_step(array, left_partition, equal_partition, right_partition, pivot, step)\n",
        "\n",
        "        left_count = len(left_partition)\n",
        "        equal_count = len(equal_partition)\n",
        "\n",
        "        # Determine where k lies\n",
        "        if k < left_count:\n",
        "            # Search in the left subarray (elements < pivot)\n",
        "            array = left_partition\n",
        "        elif k < left_count + equal_count:\n",
        "            # k-th element is the pivot\n",
        "            print(f\"Found the k-th element ({k}): {pivot}\")\n",
        "            return pivot\n",
        "        else:\n",
        "            # Search in the right subarray (elements > pivot)\n",
        "            array = right_partition\n",
        "            k -= (left_count + equal_count)\n",
        "\n",
        "        step += 1\n",
        "\n",
        "def main():\n",
        "    # Input: size of the vector\n",
        "    size = 7\n",
        "    # Create a vector with random integers\n",
        "    vector = [random.randint(1, 10) for _ in range(size)]\n",
        "\n",
        "    # Print the vector\n",
        "    print(\"Initial Vector:\", vector)\n",
        "\n",
        "    # Find and print the median\n",
        "    if size % 2 == 1:\n",
        "        # Odd size: middle element\n",
        "        median = quickselect_visualized(vector, size // 2)\n",
        "    else:\n",
        "        # Even size: use a single pass to find the two middle elements\n",
        "        middle_indices = [size // 2 - 1, size // 2]\n",
        "        sorted_middles = []\n",
        "        for k in middle_indices:\n",
        "            sorted_middles.append(quickselect_visualized(vector, k))\n",
        "        median = sum(sorted_middles) / 2  # Average of the two middle elements\n",
        "\n",
        "    print(\"\\nMedian:\", median)\n",
        "\n",
        "\n",
        "if __name__ == \"__main__\":\n",
        "    main()\n"
      ],
      "metadata": {
        "colab": {
          "base_uri": "https://localhost:8080/",
          "height": 564
        },
        "id": "VhCpqmYGKsr0",
        "outputId": "321d0450-a5f3-4b4f-c15e-cbee0eec98aa"
      },
      "execution_count": 30,
      "outputs": [
        {
          "output_type": "stream",
          "name": "stdout",
          "text": [
            "Initial Vector: [8, 7, 4, 9, 7, 3, 8]\n"
          ]
        },
        {
          "output_type": "display_data",
          "data": {
            "text/plain": [
              "<Figure size 1000x200 with 1 Axes>"
            ],
            "image/png": "[encoded data removed]"
          },
          "metadata": {}
        },
        {
          "output_type": "display_data",
          "data": {
            "text/plain": [
              "<Figure size 1000x200 with 1 Axes>"
            ],
            "image/png": "[encoded data removed]"
          },
          "metadata": {}
        },
        {
          "output_type": "stream",
          "name": "stdout",
          "text": [
            "Found the k-th element (3): 7\n",
            "\n",
            "Median: 7\n"
          ]
        }
      ]
    }
  ]
}