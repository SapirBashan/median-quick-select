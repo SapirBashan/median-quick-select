{
 "cells": [
  {
   "cell_type": "markdown",
   "metadata": {
    "id": "lJwADYenK_-G"
   },
   "source": []
  },
  {
   "cell_type": "code",
   "execution_count": null,
   "metadata": {},
   "outputs": [],
   "source": [
    "## quick select with counting - code showcase\n"
   ]
  },
  {
   "cell_type": "code",
   "execution_count": null,
   "metadata": {
    "colab": {
     "base_uri": "https://localhost:8080/"
    },
    "id": "24Dlx4QsBVq5",
    "outputId": "30b579fd-18a0-4fe9-fd8c-0c1314919e10"
   },
   "outputs": [
    {
     "name": "stdout",
     "output_type": "stream",
     "text": [
      "Vector: [5, 56, 24, 18, 60, 90, 66, 88]\n",
      "Median: 58.0\n"
     ]
    }
   ],
   "source": [
    "import random\n",
    "\n",
    "def partition_count(array, pivot):\n",
    "    \"\"\"Partition the array into counts of elements < pivot and == pivot.\"\"\"\n",
    "    left_count = 0\n",
    "    equal_count = 0\n",
    "\n",
    "    for element in array:\n",
    "        if element < pivot:\n",
    "            left_count += 1\n",
    "        elif element == pivot:\n",
    "            equal_count += 1\n",
    "\n",
    "    return left_count, equal_count\n",
    "\n",
    "def quickselect(array, k):\n",
    "    \"\"\"Find the k-th smallest element using Quickselect with counting.\"\"\"\n",
    "    while True:\n",
    "        # Choose pivot (simplest: first element)\n",
    "        pivot = array[0]\n",
    "\n",
    "        # Partition the array\n",
    "        left_count, equal_count = partition_count(array, pivot)\n",
    "\n",
    "        # Determine where k lies\n",
    "        if k < left_count:\n",
    "            # Search in the left subarray (elements < pivot)\n",
    "            array = [element for element in array if element < pivot]\n",
    "        elif k < left_count + equal_count:\n",
    "            # k-th element is the pivot\n",
    "            return pivot\n",
    "        else:\n",
    "            # Search in the right subarray (elements > pivot)\n",
    "            array = [element for element in array if element > pivot]\n",
    "            k -= (left_count + equal_count)\n",
    "\n",
    "def main():\n",
    "    # Input: size of the vector\n",
    "    size = 8\n",
    "\n",
    "    # Create a vector with random integers\n",
    "    vector = [random.randint(1, 100) for _ in range(size)]\n",
    "\n",
    "    # Print the vector\n",
    "    print(\"Vector:\", vector)\n",
    "\n",
    "    # Find and print the median\n",
    "    if size % 2 == 1:\n",
    "        # Odd size: middle element\n",
    "        median = quickselect(vector, size // 2)\n",
    "    else:\n",
    "        # Even size: average of two middle elements\n",
    "        left_middle = quickselect(vector, size // 2 - 1)\n",
    "        right_middle = quickselect(vector, size // 2)\n",
    "        median = (left_middle + right_middle) / 2\n",
    "\n",
    "    print(\"Median:\", median)\n",
    "\n",
    "if __name__ == \"__main__\":\n",
    "    main()\n"
   ]
  },
  {
   "cell_type": "markdown",
   "metadata": {
    "id": "OLK7dElVK2CE"
   },
   "source": [
    "## quick select with counting - graph\n",
    "\n",
    "\n"
   ]
  },
  {
   "cell_type": "markdown",
   "metadata": {
    "id": "DKdbyeBRNPxH"
   },
   "source": [
    "# quick select with swaping simple code\n"
   ]
  },
  {
   "cell_type": "code",
   "execution_count": 31,
   "metadata": {
    "colab": {
     "base_uri": "https://localhost:8080/"
    },
    "id": "sasYQKbLNMoC",
    "outputId": "011bc8cf-1b14-43cd-a8ea-dbcb7922e8b5"
   },
   "outputs": [
    {
     "name": "stdout",
     "output_type": "stream",
     "text": [
      "Vector: [73, 23, 51, 15, 74, 35, 37, 68]\n",
      "Median: 44.0\n"
     ]
    }
   ],
   "source": [
    "import random\n",
    "\n",
    "def partition_swap(array, pivot):\n",
    "    \"\"\"Partition the array by swapping elements < pivot to the left and > pivot to the right.\"\"\"\n",
    "    left = 0\n",
    "    right = len(array) - 1\n",
    "\n",
    "    while left <= right:\n",
    "        if array[left] < pivot:\n",
    "            left += 1\n",
    "        elif array[right] > pivot:\n",
    "            right -= 1\n",
    "        else:\n",
    "            # Swap elements at left and right\n",
    "            array[left], array[right] = array[right], array[left]\n",
    "            left += 1\n",
    "            right -= 1\n",
    "\n",
    "    return left  # Return the partition index\n",
    "\n",
    "def quickselect(array, k):\n",
    "    \"\"\"Find the k-th smallest element using Quickselect with swapping.\"\"\"\n",
    "    while True:\n",
    "        # Choose pivot (simplest: first element)\n",
    "        pivot = array[0]\n",
    "\n",
    "        # Partition the array using the pivot and get the partition index\n",
    "        partition_index = partition_swap(array, pivot)\n",
    "\n",
    "        # Determine where k lies\n",
    "        if k < partition_index:\n",
    "            # Search in the left subarray (elements < pivot)\n",
    "            array = array[:partition_index]\n",
    "        elif k == partition_index:\n",
    "            # k-th element is the pivot\n",
    "            return array[partition_index]\n",
    "        else:\n",
    "            # Search in the right subarray (elements > pivot)\n",
    "            k -= partition_index\n",
    "            array = array[partition_index:]\n",
    "\n",
    "def main():\n",
    "    # Input: size of the vector\n",
    "    size = 8\n",
    "\n",
    "    # Create a vector with random integers\n",
    "    vector = [random.randint(1, 100) for _ in range(size)]\n",
    "\n",
    "    # Print the vector\n",
    "    print(\"Vector:\", vector)\n",
    "\n",
    "    # Find and print the median\n",
    "    if size % 2 == 1:\n",
    "        # Odd size: middle element\n",
    "        median = quickselect(vector, size // 2)\n",
    "    else:\n",
    "        # Even size: average of two middle elements\n",
    "        left_middle = quickselect(vector, size // 2 - 1)\n",
    "        right_middle = quickselect(vector, size // 2)\n",
    "        median = (left_middle + right_middle) / 2\n",
    "\n",
    "    print(\"Median:\", median)\n",
    "\n",
    "if __name__ == \"__main__\":\n",
    "    main()\n"
   ]
  },
  {
   "cell_type": "markdown",
   "metadata": {
    "id": "g39kLE0vKzSf"
   },
   "source": []
  },
  {
   "cell_type": "markdown",
   "metadata": {
    "id": "oNC72j4TLI8j"
   },
   "source": [
    "## quick select with swaping - graph\n",
    "\n"
   ]
  },
  {
   "cell_type": "code",
   "execution_count": null,
   "metadata": {
    "colab": {
     "base_uri": "https://localhost:8080/",
     "height": 564
    },
    "id": "VhCpqmYGKsr0",
    "outputId": "321d0450-a5f3-4b4f-c15e-cbee0eec98aa"
   },
   "outputs": [
    {
     "name": "stdout",
     "output_type": "stream",
     "text": [
      "Initial Vector: [8, 7, 4, 9, 7, 3, 8]\n"
     ]
    },
    {
     "data": {
      "image/png": "[encoded data removed]",
      "text/plain": [
       "<Figure size 1000x200 with 1 Axes>"
      ]
     },
     "metadata": {},
     "output_type": "display_data"
    },
    {
     "data": {
      "image/png": "[encoded data removed]",
      "text/plain": [
       "<Figure size 1000x200 with 1 Axes>"
      ]
     },
     "metadata": {},
     "output_type": "display_data"
    },
    {
     "name": "stdout",
     "output_type": "stream",
     "text": [
      "Found the k-th element (3): 7\n",
      "\n",
      "Median: 7\n"
     ]
    }
   ],
   "source": []
  }
 ],
 "metadata": {
  "colab": {
   "provenance": []
  },
  "kernelspec": {
   "display_name": "Python 3",
   "name": "python3"
  },
  "language_info": {
   "name": "python"
  }
 },
 "nbformat": 4,
 "nbformat_minor": 0
}
